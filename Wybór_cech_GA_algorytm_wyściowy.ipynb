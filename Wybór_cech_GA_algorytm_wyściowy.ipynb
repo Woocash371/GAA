{
  "nbformat": 4,
  "nbformat_minor": 0,
  "metadata": {
    "colab": {
      "provenance": [],
      "gpuType": "T4",
      "authorship_tag": "ABX9TyPYI3Ohli08UJces8CsNqkp",
      "include_colab_link": true
    },
    "kernelspec": {
      "name": "python3",
      "display_name": "Python 3"
    },
    "language_info": {
      "name": "python"
    },
    "accelerator": "GPU"
  },
  "cells": [
    {
      "cell_type": "markdown",
      "metadata": {
        "id": "view-in-github",
        "colab_type": "text"
      },
      "source": [
        "<a href=\"https://colab.research.google.com/github/Woocash371/GAA/blob/main/Wyb%C3%B3r_cech_GA_algorytm_wy%C5%9Bciowy.ipynb\" target=\"_parent\"><img src=\"https://colab.research.google.com/assets/colab-badge.svg\" alt=\"Open In Colab\"/></a>"
      ]
    },
    {
      "cell_type": "code",
      "source": [
        "!pip install deap\n"
      ],
      "metadata": {
        "colab": {
          "base_uri": "https://localhost:8080/"
        },
        "id": "cks6wgU45UHZ",
        "outputId": "73d3cd1b-e074-470a-ba47-e12433c2a200"
      },
      "execution_count": 1,
      "outputs": [
        {
          "output_type": "stream",
          "name": "stdout",
          "text": [
            "Collecting deap\n",
            "  Downloading deap-1.4.1-cp310-cp310-manylinux_2_5_x86_64.manylinux1_x86_64.manylinux_2_17_x86_64.manylinux2014_x86_64.whl.metadata (13 kB)\n",
            "Requirement already satisfied: numpy in /usr/local/lib/python3.10/dist-packages (from deap) (1.26.4)\n",
            "Downloading deap-1.4.1-cp310-cp310-manylinux_2_5_x86_64.manylinux1_x86_64.manylinux_2_17_x86_64.manylinux2014_x86_64.whl (135 kB)\n",
            "\u001b[?25l   \u001b[90m━━━━━━━━━━━━━━━━━━━━━━━━━━━━━━━━━━━━━━━━\u001b[0m \u001b[32m0.0/135.4 kB\u001b[0m \u001b[31m?\u001b[0m eta \u001b[36m-:--:--\u001b[0m\r\u001b[2K   \u001b[90m━━━━━━━━━━━━━━━━━━━━━━━━━━━━━━━━━━━━━━━━\u001b[0m \u001b[32m135.4/135.4 kB\u001b[0m \u001b[31m4.1 MB/s\u001b[0m eta \u001b[36m0:00:00\u001b[0m\n",
            "\u001b[?25hInstalling collected packages: deap\n",
            "Successfully installed deap-1.4.1\n"
          ]
        }
      ]
    },
    {
      "cell_type": "code",
      "source": [
        "import numpy as np\n",
        "import pandas as pd\n",
        "from sklearn.preprocessing import StandardScaler\n",
        "from sklearn.linear_model import LinearRegression\n",
        "from sklearn.ensemble import RandomForestRegressor\n",
        "from sklearn.svm import SVR\n",
        "from sklearn.metrics import mean_squared_error, mean_absolute_error\n",
        "from sklearn.model_selection import train_test_split\n",
        "from deap import base, creator, tools, algorithms\n",
        "import random\n",
        "from multiprocessing import Pool\n",
        "\n",
        "# Definicja funkcji oceny na poziomie globalnym\n",
        "def evaluate(individual, X_train, X_test, y_train, y_test, model_type, error_metric):\n",
        "    # Zastosowanie maski wyboru cech\n",
        "    mask = np.array(individual, dtype=bool)\n",
        "    if not any(mask):\n",
        "        return (float('inf'),)  # Kara za wybór braku cech\n",
        "\n",
        "    X_train_masked = X_train[:, mask]\n",
        "    X_test_masked = X_test[:, mask]\n",
        "\n",
        "    # Wybór modelu regresji\n",
        "    if model_type == 'LinearRegression':\n",
        "        model = LinearRegression()\n",
        "    elif model_type == 'RandomForest':\n",
        "        model = RandomForestRegressor(random_state=42)\n",
        "    elif model_type == 'SVR':\n",
        "        model = SVR()\n",
        "    else:\n",
        "        raise ValueError(\"Nieznany typ modelu: {}\".format(model_type))\n",
        "\n",
        "    # Trenowanie modelu\n",
        "    model.fit(X_train_masked, y_train)\n",
        "    y_pred = model.predict(X_test_masked)\n",
        "\n",
        "    # Wybór metryki błędu\n",
        "    if error_metric == 'mse':\n",
        "        error = mean_squared_error(y_test, y_pred)\n",
        "    elif error_metric == 'mae':\n",
        "        error = mean_absolute_error(y_test, y_pred)\n",
        "    else:\n",
        "        raise ValueError(\"Nieznana metryka błędu: {}\".format(error_metric))\n",
        "\n",
        "    return (error,)\n",
        "\n",
        "def genetic_algorithm(file_path, target_column, model_type='LinearRegression', error_metric='mse', population_size=50, num_generations=20, crossover_prob=0.7, mutation_prob=0.2,\n",
        "                      keep_best_idividual= False,amount_of_best_individual=1,crossover_type='TwoPoint', k_random_points = 1):\n",
        "\n",
        "    print(f'Analiza cech dla {target_column}')\n",
        "    print(f'Typ modelu: {model_type}')\n",
        "    print(f'Metryka błędu: {error_metric}')\n",
        "    print(f'Rozmiar populacji: {population_size}')\n",
        "    print(f'Liczba generacji: {num_generations}')\n",
        "    print(f'Prawdopodobieństwo krzyżowania: {crossover_prob}')\n",
        "    print(f'Prawdopodobieństwo mutacji: {mutation_prob}')\n",
        "    print(f'Typ krzyżowania: {crossover_type}')\n",
        "    if crossover_type == 'KRandom':\n",
        "      print(f'Liczba punktów krzyżowania: {k_random_points}')\n",
        "    # Przygotowanie danych\n",
        "    if file_path.endswith('.xlsx') or file_path.endswith('.xls'):\n",
        "        xls = pd.ExcelFile(file_path)\n",
        "        df = pd.read_excel(xls, sheet_name=0)  # Wczytywanie pierwszego arkusza\n",
        "    elif file_path.endswith('.csv'):\n",
        "        df = pd.read_csv(file_path)  # Wczytywanie pliku CSV\n",
        "    else:\n",
        "        raise ValueError(\"Nieobsługiwany format pliku: {}\".format(file_path))\n",
        "\n",
        "    # Usunięcie nienazwanych kolumn\n",
        "    df = df.loc[:, ~df.columns.str.contains('^Unnamed')]\n",
        "\n",
        "    # Separacja cech (X) i celu (y)\n",
        "    X = df.drop(columns=[target_column])\n",
        "    y = df[target_column]\n",
        "\n",
        "    # Standaryzacja cech\n",
        "    scaler = StandardScaler()\n",
        "    X_scaled = scaler.fit_transform(X)\n",
        "\n",
        "    # Podział na zbiory treningowy i testowy\n",
        "    X_train, X_test, y_train, y_test = train_test_split(X_scaled, y, test_size=0.2, random_state=42)\n",
        "\n",
        "    # Definicja algorytmu genetycznego\n",
        "    creator.create(\"FitnessMin\", base.Fitness, weights=(-1.0,))\n",
        "    creator.create(\"Individual\", list, fitness=creator.FitnessMin)\n",
        "\n",
        "    def cxKRandom(ind1, ind2, k):\n",
        "      points = sorted(random.sample(range(1, len(ind1)), k))\n",
        "      for i in range(len(points)):\n",
        "        if i % 2 == 0:\n",
        "          start = points[i]\n",
        "          end = points[i + 1] if i + 1 < len(points) else len(ind1)\n",
        "          ind1[start:end], ind2[start:end] = ind2[start:end], ind1[start:end]\n",
        "        return ind1, ind2\n",
        "\n",
        "    # Inicjalizacja algorytmu genetycznego\n",
        "    toolbox = base.Toolbox()\n",
        "    toolbox.register(\"attr_bool\", random.randint, 0, 1)\n",
        "    toolbox.register(\"individual\", tools.initRepeat, creator.Individual, toolbox.attr_bool, n=X.shape[1])\n",
        "    toolbox.register(\"population\", tools.initRepeat, list, toolbox.individual)\n",
        "\n",
        "    # Rejestracja rodzaju krzyżowania\n",
        "    if crossover_type == 'OnePoint':\n",
        "        toolbox.register(\"mate\", tools.cxOnePoint)\n",
        "    elif crossover_type == 'TwoPoint':\n",
        "        toolbox.register(\"mate\", tools.cxTwoPoint)\n",
        "    elif crossover_type == 'PMX':\n",
        "        toolbox.register(\"mate\", tools.cxPartialyMatched)\n",
        "    elif crossover_type == 'Uniform':\n",
        "        toolbox.register(\"mate\", tools.cxUniform, indpb=0.5)\n",
        "    elif crossover_type == 'KRandom':\n",
        "        toolbox.register(\"mate\", cxKRandom, k=k_random_points)\n",
        "    else:\n",
        "        raise ValueError(\"Nieznany typ krzyżowania: {}\".format(crossover_type))\n",
        "\n",
        "    toolbox.register(\"mutate\", tools.mutFlipBit, indpb=0.05)\n",
        "    toolbox.register(\"select\", tools.selTournament, tournsize=3)\n",
        "    toolbox.register(\"evaluate\", evaluate, X_train=X_train, X_test=X_test, y_train=y_train, y_test=y_test, model_type=model_type, error_metric=error_metric)\n",
        "\n",
        "    # Definicja statystyk\n",
        "    stats = tools.Statistics(lambda ind: ind.fitness.values)\n",
        "\n",
        "    stats.register(\"avg\", np.mean)\n",
        "    stats.register(\"std\", np.std)\n",
        "    stats.register(\"min\", np.min)\n",
        "    stats.register(\"max\", np.max)\n",
        "    stats.register(\"median\", np.median)\n",
        "    stats.register(\"var\", np.var)\n",
        "\n",
        "    if keep_best_idividual == True:\n",
        "      halloffame = tools.HallOfFame(amount_of_best_individual)\n",
        "    else:\n",
        "      halloffame = tools.HallOfFame(1)  # Zawsze przechowuj co najmniej jednego najlepszego osobnika\n",
        "\n",
        "    # Tworzenie populacji początkowej\n",
        "    population = toolbox.population(n=population_size)\n",
        "\n",
        "    # Równoległe uruchomienie oceny osobników\n",
        "    with Pool() as pool:\n",
        "        toolbox.register(\"map\", pool.map)\n",
        "        # Uruchomienie algorytmu genetycznego\n",
        "        algorithms.eaSimple(population, toolbox, cxpb=crossover_prob, mutpb=mutation_prob, ngen=num_generations,\n",
        "                           stats=stats, halloffame=halloffame, verbose=True)\n",
        "\n",
        "    if halloffame and len(halloffame) > 0:\n",
        "        if keep_best_idividual:\n",
        "            print(\"Najlepsze osobniki:\")\n",
        "            for i, individual in enumerate(halloffame):\n",
        "                print(f'Osobnik {i + 1}:')\n",
        "                features = np.array(individual, dtype=bool)\n",
        "                selected_features = X.columns[features]\n",
        "                print(\"  - Wybrane cechy:\", selected_features.tolist())\n",
        "                fitness = individual.fitness.values[0]\n",
        "                print(f\"  - Błąd ({error_metric}): {fitness}\\n\")\n",
        "        else:\n",
        "            best_individual = halloffame[0]\n",
        "            best_features = np.array(best_individual, dtype=bool)\n",
        "            print(f\"Najlepszy osobnik: {best_individual}\")\n",
        "            selected_features = X.columns[best_features]\n",
        "            print(\"Najbardziej wpływowe cechy:\", selected_features.tolist())\n",
        "    else:\n",
        "        print(\"Nie znaleziono najlepszych osobników do wyświetlenia.\")"
      ],
      "metadata": {
        "id": "lf_1WEZaMbpE"
      },
      "execution_count": 36,
      "outputs": []
    },
    {
      "cell_type": "code",
      "source": [
        "file_path = \"/content/sample_data/Excel_do_Ga_Nasze_stanowisko.xlsx\"\n",
        "genetic_algorithm(file_path, target_column='(mi-m_osp)/m_złoża', model_type='LinearRegression',\n",
        "                  error_metric='mse', population_size=50, num_generations=50, crossover_prob=0.8, mutation_prob=0.1,\n",
        "                      keep_best_idividual= True,amount_of_best_individual=2,crossover_type='TwoPoint', k_random_points = 2)"
      ],
      "metadata": {
        "id": "2Y8JMEmINZ85",
        "outputId": "546d3ffb-4590-426a-fdda-74fdc1d22fea",
        "colab": {
          "base_uri": "https://localhost:8080/"
        }
      },
      "execution_count": 39,
      "outputs": [
        {
          "output_type": "stream",
          "name": "stdout",
          "text": [
            "Analiza cech dla (mi-m_osp)/m_złoża\n",
            "Typ modelu: LinearRegression\n",
            "Metryka błędu: mse\n",
            "Rozmiar populacji: 50\n",
            "Liczba generacji: 50\n",
            "Prawdopodobieństwo krzyżowania: 0.8\n",
            "Prawdopodobieństwo mutacji: 0.1\n",
            "Typ krzyżowania: TwoPoint\n"
          ]
        },
        {
          "output_type": "stream",
          "name": "stderr",
          "text": [
            "/usr/local/lib/python3.10/dist-packages/deap/creator.py:185: RuntimeWarning: A class named 'FitnessMin' has already been created and it will be overwritten. Consider deleting previous creation of that class or rename it.\n",
            "  warnings.warn(\"A class named '{0}' has already been created and it \"\n",
            "/usr/local/lib/python3.10/dist-packages/deap/creator.py:185: RuntimeWarning: A class named 'Individual' has already been created and it will be overwritten. Consider deleting previous creation of that class or rename it.\n",
            "  warnings.warn(\"A class named '{0}' has already been created and it \"\n"
          ]
        },
        {
          "output_type": "stream",
          "name": "stdout",
          "text": [
            "gen\tnevals\tavg     \tstd     \tmin      \tmax     \tmedian  \tvar       \n",
            "0  \t50    \t0.126062\t0.083308\t0.0411866\t0.430237\t0.110013\t0.00694022\n",
            "1  \t44    \t0.0675574\t0.0295751\t0.0409711\t0.155584\t0.0541085\t0.000874688\n",
            "2  \t45    \t0.0493441\t0.0106015\t0.0409383\t0.109809\t0.0453792\t0.000112391\n",
            "3  \t43    \t0.0483595\t0.0129958\t0.0384056\t0.109632\t0.0445601\t0.00016889 \n",
            "4  \t41    \t0.043887 \t0.00577934\t0.0381661\t0.0663376\t0.0414775\t3.34008e-05\n",
            "5  \t41    \t0.0455195\t0.0289257 \t0.0381614\t0.245225 \t0.0410598\t0.000836697\n",
            "6  \t40    \t0.0395078\t0.00175251\t0.0381614\t0.0460982\t0.0384056\t3.0713e-06 \n",
            "7  \t38    \t0.0384838\t0.000801893\t0.0381614\t0.0411667\t0.0381686\t6.43032e-07\n",
            "8  \t42    \t0.038814 \t0.00454051 \t0.0381614\t0.0705975\t0.0381661\t2.06162e-05\n",
            "9  \t40    \t0.0385589\t0.00235011 \t0.0381614\t0.0547036\t0.0381614\t5.52301e-06\n",
            "10 \t35    \t0.038377 \t0.00114415 \t0.0381614\t0.0457741\t0.0381614\t1.30907e-06\n",
            "11 \t37    \t0.038494 \t0.00231567 \t0.0381614\t0.0547036\t0.0381614\t5.36234e-06\n",
            "12 \t44    \t0.0385523\t0.00234535 \t0.0381614\t0.0547036\t0.0381614\t5.50068e-06\n",
            "13 \t44    \t0.0382532\t0.000450082\t0.0381614\t0.0405087\t0.0381614\t2.02574e-07\n",
            "14 \t41    \t0.0389885\t0.00460642 \t0.0381614\t0.0705975\t0.0381614\t2.12191e-05\n",
            "15 \t43    \t0.0381982\t0.000159156\t0.0381614\t0.0389643\t0.0381614\t2.53305e-08\n",
            "16 \t41    \t0.0387968\t0.00309299 \t0.0381614\t0.054763 \t0.0381614\t9.56656e-06\n",
            "17 \t40    \t0.0382872\t0.000814774\t0.0381614\t0.0439722\t0.0381614\t6.63857e-07\n",
            "18 \t34    \t0.0388145\t0.00454053 \t0.0381614\t0.0705975\t0.0381614\t2.06164e-05\n",
            "19 \t45    \t0.0381613\t2.95137e-06\t0.038145 \t0.0381744\t0.0381614\t8.71059e-12\n",
            "20 \t42    \t0.0385557\t0.00233249 \t0.0381614\t0.0547036\t0.0381614\t5.4405e-06 \n",
            "21 \t44    \t0.0389254\t0.00459599 \t0.0381614\t0.0705975\t0.0381614\t2.11231e-05\n",
            "22 \t40    \t0.0382263\t0.000421455\t0.038145 \t0.0411667\t0.0381614\t1.77624e-07\n",
            "23 \t44    \t0.0381626\t3.0652e-05 \t0.038145 \t0.0383727\t0.0381614\t9.39542e-10\n",
            "24 \t38    \t0.0381574\t1.33359e-05\t0.038145 \t0.0382196\t0.0381614\t1.77847e-10\n",
            "25 \t44    \t0.040526 \t0.0161868  \t0.0381414\t0.153789 \t0.038145 \t0.000262014\n",
            "26 \t44    \t0.0388492\t0.00452849 \t0.0381414\t0.0704182\t0.038145 \t2.05072e-05\n",
            "27 \t40    \t0.0383011\t0.00109185 \t0.0381414\t0.045944 \t0.038145 \t1.19214e-06\n",
            "28 \t43    \t0.038443 \t0.00209239 \t0.0381414\t0.0530897\t0.038145 \t4.3781e-06 \n",
            "29 \t39    \t0.0382045\t0.000431661\t0.0381414\t0.0412261\t0.0381414\t1.86331e-07\n",
            "30 \t38    \t0.0392407\t0.00593634 \t0.0381414\t0.0781299\t0.0381414\t3.52401e-05\n",
            "31 \t44    \t0.0381444\t1.12031e-05\t0.0381414\t0.038207 \t0.0381414\t1.25509e-10\n",
            "32 \t45    \t0.0403502\t0.0108049  \t0.0381414\t0.108746 \t0.0381414\t0.000116746\n",
            "33 \t43    \t0.0384698\t0.00229888 \t0.0381414\t0.0545619\t0.0381414\t5.28483e-06\n",
            "34 \t40    \t0.0383003\t0.00108567 \t0.0381414\t0.0458977\t0.0381414\t1.17869e-06\n",
            "35 \t34    \t0.0381481\t3.67793e-05\t0.0381414\t0.038397 \t0.0381414\t1.35272e-09\n",
            "36 \t41    \t0.0395551\t0.00988437 \t0.0381414\t0.108746 \t0.0381414\t9.77008e-05\n",
            "37 \t36    \t0.0386138\t0.00330748 \t0.0381414\t0.0617662\t0.0381414\t1.09394e-05\n",
            "38 \t37    \t0.0396102\t0.00988448 \t0.0381414\t0.108746 \t0.0381414\t9.7703e-05 \n",
            "39 \t44    \t0.0388895\t0.00480331 \t0.0381414\t0.0723701\t0.0381414\t2.30718e-05\n",
            "40 \t38    \t0.0381414\t0          \t0.0381414\t0.0381414\t0.0381414\t0          \n",
            "41 \t40    \t0.0387941\t0.0045572  \t0.0381414\t0.0706945\t0.0381414\t2.07681e-05\n",
            "42 \t45    \t0.0381483\t4.0232e-05 \t0.0381414\t0.0384225\t0.0381414\t1.61862e-09\n",
            "43 \t44    \t0.038524 \t0.0023056  \t0.0381414\t0.0544217\t0.0381414\t5.3158e-06 \n",
            "44 \t40    \t0.0398797\t0.0100984  \t0.0381414\t0.108746 \t0.0381414\t0.000101978\n",
            "45 \t43    \t0.0382616\t0.00058826 \t0.0381414\t0.0412979\t0.0381414\t3.4605e-07 \n",
            "46 \t44    \t0.0385239\t0.00230562 \t0.0381414\t0.0544217\t0.0381414\t5.31587e-06\n",
            "47 \t46    \t0.0381982\t0.000397484\t0.0381414\t0.0409806\t0.0381414\t1.57994e-07\n",
            "48 \t46    \t0.0381414\t0          \t0.0381414\t0.0381414\t0.0381414\t0          \n",
            "49 \t39    \t0.0381541\t8.94984e-05\t0.0381414\t0.0387806\t0.0381414\t8.00996e-09\n",
            "50 \t39    \t0.0387966\t0.00449945 \t0.0381414\t0.070287 \t0.0381414\t2.02451e-05\n",
            "Najlepsze osobniki:\n",
            "Osobnik 1:\n",
            "  - Wybrane cechy: ['T1', 'T3', 'T4', 'T5', 'P1', 'P5', 'Vdd', 'czas']\n",
            "  - Błąd (mse): 0.038141352472820855\n",
            "\n",
            "Osobnik 2:\n",
            "  - Wybrane cechy: ['T1', 'T3', 'T4', 'T5', 'P1', 'P5', 'czas']\n",
            "  - Błąd (mse): 0.038145031277170324\n",
            "\n"
          ]
        }
      ]
    },
    {
      "cell_type": "code",
      "source": [],
      "metadata": {
        "id": "scl-eMcGNfo7"
      },
      "execution_count": 30,
      "outputs": []
    },
    {
      "cell_type": "code",
      "source": [],
      "metadata": {
        "id": "lQ82VRCuOeP0",
        "outputId": "c3bef259-dd65-439f-8297-19ff59846fa2",
        "colab": {
          "base_uri": "https://localhost:8080/"
        }
      },
      "execution_count": 31,
      "outputs": [
        {
          "output_type": "stream",
          "name": "stdout",
          "text": [
            "Analiza cech dla median_house_value\n",
            "Typ modelu: LinearRegression\n",
            "Metryka błędu: mse\n",
            "Rozmiar populacji: 100\n",
            "Liczba generacji: 100\n",
            "Prawdopodobieństwo krzyżowania: 0.8\n",
            "Prawdopodobieństwo mutacji: 0.1\n",
            "Typ krzyżowania: TwoPoint\n"
          ]
        },
        {
          "output_type": "stream",
          "name": "stderr",
          "text": [
            "/usr/local/lib/python3.10/dist-packages/deap/creator.py:185: RuntimeWarning: A class named 'FitnessMin' has already been created and it will be overwritten. Consider deleting previous creation of that class or rename it.\n",
            "  warnings.warn(\"A class named '{0}' has already been created and it \"\n",
            "/usr/local/lib/python3.10/dist-packages/deap/creator.py:185: RuntimeWarning: A class named 'Individual' has already been created and it will be overwritten. Consider deleting previous creation of that class or rename it.\n",
            "  warnings.warn(\"A class named '{0}' has already been created and it \"\n"
          ]
        },
        {
          "output_type": "stream",
          "name": "stdout",
          "text": [
            "Pokolenie 100: {'avg': inf, 'std': nan, 'min': 4651428230.885948, 'max': inf, 'median': 9340055590.733479, 'var': nan}\n",
            "Nie znaleziono najlepszych osobników do wyświetlenia.\n"
          ]
        },
        {
          "output_type": "stream",
          "name": "stderr",
          "text": [
            "/usr/local/lib/python3.10/dist-packages/numpy/core/_methods.py:173: RuntimeWarning: invalid value encountered in subtract\n",
            "  x = asanyarray(arr - arrmean)\n"
          ]
        }
      ]
    },
    {
      "cell_type": "code",
      "source": [],
      "metadata": {
        "id": "vTAWHrbsOhZp"
      },
      "execution_count": null,
      "outputs": []
    }
  ]
}